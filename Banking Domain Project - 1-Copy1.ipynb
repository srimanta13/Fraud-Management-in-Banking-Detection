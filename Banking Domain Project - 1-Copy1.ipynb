{
 "cells": [
  {
   "cell_type": "code",
   "execution_count": 1,
   "id": "32af842e",
   "metadata": {},
   "outputs": [],
   "source": [
    "# Basic libraries\n",
    "import os, sys\n",
    "import numpy as np\n",
    "import pandas as pd\n",
    "import matplotlib.pyplot as plt\n",
    "%matplotlib inline\n",
    "import seaborn as sns\n",
    "sns.set()\n",
    "import warnings\n",
    "warnings.filterwarnings('ignore')\n",
    "from datetime import datetime\n",
    "\n",
    "from sklearn.model_selection import train_test_split\n",
    "import sklearn\n",
    "import scipy\n",
    "\n",
    "from pylab import rcParams\n",
    "rcParams['figure.figsize'] = 15,12\n",
    "LABELS = ['Normal', 'Fraud']"
   ]
  },
  {
   "cell_type": "code",
   "execution_count": 2,
   "id": "3f14093f",
   "metadata": {},
   "outputs": [
    {
     "data": {
      "text/html": [
       "<div>\n",
       "<style scoped>\n",
       "    .dataframe tbody tr th:only-of-type {\n",
       "        vertical-align: middle;\n",
       "    }\n",
       "\n",
       "    .dataframe tbody tr th {\n",
       "        vertical-align: top;\n",
       "    }\n",
       "\n",
       "    .dataframe thead th {\n",
       "        text-align: right;\n",
       "    }\n",
       "</style>\n",
       "<table border=\"1\" class=\"dataframe\">\n",
       "  <thead>\n",
       "    <tr style=\"text-align: right;\">\n",
       "      <th></th>\n",
       "      <th>Time</th>\n",
       "      <th>V1</th>\n",
       "      <th>V2</th>\n",
       "      <th>V3</th>\n",
       "      <th>V4</th>\n",
       "      <th>V5</th>\n",
       "      <th>V6</th>\n",
       "      <th>V7</th>\n",
       "      <th>V8</th>\n",
       "      <th>V9</th>\n",
       "      <th>...</th>\n",
       "      <th>V21</th>\n",
       "      <th>V22</th>\n",
       "      <th>V23</th>\n",
       "      <th>V24</th>\n",
       "      <th>V25</th>\n",
       "      <th>V26</th>\n",
       "      <th>V27</th>\n",
       "      <th>V28</th>\n",
       "      <th>Amount</th>\n",
       "      <th>Class</th>\n",
       "    </tr>\n",
       "  </thead>\n",
       "  <tbody>\n",
       "    <tr>\n",
       "      <th>0</th>\n",
       "      <td>0.0</td>\n",
       "      <td>-1.359807</td>\n",
       "      <td>-0.072781</td>\n",
       "      <td>2.536347</td>\n",
       "      <td>1.378155</td>\n",
       "      <td>-0.338321</td>\n",
       "      <td>0.462388</td>\n",
       "      <td>0.239599</td>\n",
       "      <td>0.098698</td>\n",
       "      <td>0.363787</td>\n",
       "      <td>...</td>\n",
       "      <td>-0.018307</td>\n",
       "      <td>0.277838</td>\n",
       "      <td>-0.110474</td>\n",
       "      <td>0.066928</td>\n",
       "      <td>0.128539</td>\n",
       "      <td>-0.189115</td>\n",
       "      <td>0.133558</td>\n",
       "      <td>-0.021053</td>\n",
       "      <td>149.62</td>\n",
       "      <td>0</td>\n",
       "    </tr>\n",
       "    <tr>\n",
       "      <th>1</th>\n",
       "      <td>0.0</td>\n",
       "      <td>1.191857</td>\n",
       "      <td>0.266151</td>\n",
       "      <td>0.166480</td>\n",
       "      <td>0.448154</td>\n",
       "      <td>0.060018</td>\n",
       "      <td>-0.082361</td>\n",
       "      <td>-0.078803</td>\n",
       "      <td>0.085102</td>\n",
       "      <td>-0.255425</td>\n",
       "      <td>...</td>\n",
       "      <td>-0.225775</td>\n",
       "      <td>-0.638672</td>\n",
       "      <td>0.101288</td>\n",
       "      <td>-0.339846</td>\n",
       "      <td>0.167170</td>\n",
       "      <td>0.125895</td>\n",
       "      <td>-0.008983</td>\n",
       "      <td>0.014724</td>\n",
       "      <td>2.69</td>\n",
       "      <td>0</td>\n",
       "    </tr>\n",
       "    <tr>\n",
       "      <th>2</th>\n",
       "      <td>1.0</td>\n",
       "      <td>-1.358354</td>\n",
       "      <td>-1.340163</td>\n",
       "      <td>1.773209</td>\n",
       "      <td>0.379780</td>\n",
       "      <td>-0.503198</td>\n",
       "      <td>1.800499</td>\n",
       "      <td>0.791461</td>\n",
       "      <td>0.247676</td>\n",
       "      <td>-1.514654</td>\n",
       "      <td>...</td>\n",
       "      <td>0.247998</td>\n",
       "      <td>0.771679</td>\n",
       "      <td>0.909412</td>\n",
       "      <td>-0.689281</td>\n",
       "      <td>-0.327642</td>\n",
       "      <td>-0.139097</td>\n",
       "      <td>-0.055353</td>\n",
       "      <td>-0.059752</td>\n",
       "      <td>378.66</td>\n",
       "      <td>0</td>\n",
       "    </tr>\n",
       "    <tr>\n",
       "      <th>3</th>\n",
       "      <td>1.0</td>\n",
       "      <td>-0.966272</td>\n",
       "      <td>-0.185226</td>\n",
       "      <td>1.792993</td>\n",
       "      <td>-0.863291</td>\n",
       "      <td>-0.010309</td>\n",
       "      <td>1.247203</td>\n",
       "      <td>0.237609</td>\n",
       "      <td>0.377436</td>\n",
       "      <td>-1.387024</td>\n",
       "      <td>...</td>\n",
       "      <td>-0.108300</td>\n",
       "      <td>0.005274</td>\n",
       "      <td>-0.190321</td>\n",
       "      <td>-1.175575</td>\n",
       "      <td>0.647376</td>\n",
       "      <td>-0.221929</td>\n",
       "      <td>0.062723</td>\n",
       "      <td>0.061458</td>\n",
       "      <td>123.50</td>\n",
       "      <td>0</td>\n",
       "    </tr>\n",
       "    <tr>\n",
       "      <th>4</th>\n",
       "      <td>2.0</td>\n",
       "      <td>-1.158233</td>\n",
       "      <td>0.877737</td>\n",
       "      <td>1.548718</td>\n",
       "      <td>0.403034</td>\n",
       "      <td>-0.407193</td>\n",
       "      <td>0.095921</td>\n",
       "      <td>0.592941</td>\n",
       "      <td>-0.270533</td>\n",
       "      <td>0.817739</td>\n",
       "      <td>...</td>\n",
       "      <td>-0.009431</td>\n",
       "      <td>0.798278</td>\n",
       "      <td>-0.137458</td>\n",
       "      <td>0.141267</td>\n",
       "      <td>-0.206010</td>\n",
       "      <td>0.502292</td>\n",
       "      <td>0.219422</td>\n",
       "      <td>0.215153</td>\n",
       "      <td>69.99</td>\n",
       "      <td>0</td>\n",
       "    </tr>\n",
       "  </tbody>\n",
       "</table>\n",
       "<p>5 rows × 31 columns</p>\n",
       "</div>"
      ],
      "text/plain": [
       "   Time        V1        V2        V3        V4        V5        V6        V7  \\\n",
       "0   0.0 -1.359807 -0.072781  2.536347  1.378155 -0.338321  0.462388  0.239599   \n",
       "1   0.0  1.191857  0.266151  0.166480  0.448154  0.060018 -0.082361 -0.078803   \n",
       "2   1.0 -1.358354 -1.340163  1.773209  0.379780 -0.503198  1.800499  0.791461   \n",
       "3   1.0 -0.966272 -0.185226  1.792993 -0.863291 -0.010309  1.247203  0.237609   \n",
       "4   2.0 -1.158233  0.877737  1.548718  0.403034 -0.407193  0.095921  0.592941   \n",
       "\n",
       "         V8        V9  ...       V21       V22       V23       V24       V25  \\\n",
       "0  0.098698  0.363787  ... -0.018307  0.277838 -0.110474  0.066928  0.128539   \n",
       "1  0.085102 -0.255425  ... -0.225775 -0.638672  0.101288 -0.339846  0.167170   \n",
       "2  0.247676 -1.514654  ...  0.247998  0.771679  0.909412 -0.689281 -0.327642   \n",
       "3  0.377436 -1.387024  ... -0.108300  0.005274 -0.190321 -1.175575  0.647376   \n",
       "4 -0.270533  0.817739  ... -0.009431  0.798278 -0.137458  0.141267 -0.206010   \n",
       "\n",
       "        V26       V27       V28  Amount  Class  \n",
       "0 -0.189115  0.133558 -0.021053  149.62      0  \n",
       "1  0.125895 -0.008983  0.014724    2.69      0  \n",
       "2 -0.139097 -0.055353 -0.059752  378.66      0  \n",
       "3 -0.221929  0.062723  0.061458  123.50      0  \n",
       "4  0.502292  0.219422  0.215153   69.99      0  \n",
       "\n",
       "[5 rows x 31 columns]"
      ]
     },
     "execution_count": 2,
     "metadata": {},
     "output_type": "execute_result"
    }
   ],
   "source": [
    "# import the data set\n",
    "# data = pd.read_csv('CreditCard.csv')\n",
    "data = pd.read_csv('CreditCard.csv', sep=',') \n",
    "data.head()"
   ]
  },
  {
   "cell_type": "code",
   "execution_count": 3,
   "id": "2c9461df",
   "metadata": {},
   "outputs": [
    {
     "data": {
      "text/html": [
       "<div>\n",
       "<style scoped>\n",
       "    .dataframe tbody tr th:only-of-type {\n",
       "        vertical-align: middle;\n",
       "    }\n",
       "\n",
       "    .dataframe tbody tr th {\n",
       "        vertical-align: top;\n",
       "    }\n",
       "\n",
       "    .dataframe thead th {\n",
       "        text-align: right;\n",
       "    }\n",
       "</style>\n",
       "<table border=\"1\" class=\"dataframe\">\n",
       "  <thead>\n",
       "    <tr style=\"text-align: right;\">\n",
       "      <th></th>\n",
       "      <th>Time</th>\n",
       "      <th>V1</th>\n",
       "      <th>V2</th>\n",
       "      <th>V3</th>\n",
       "      <th>V4</th>\n",
       "      <th>V5</th>\n",
       "      <th>V6</th>\n",
       "      <th>V7</th>\n",
       "      <th>V8</th>\n",
       "      <th>V9</th>\n",
       "      <th>...</th>\n",
       "      <th>V21</th>\n",
       "      <th>V22</th>\n",
       "      <th>V23</th>\n",
       "      <th>V24</th>\n",
       "      <th>V25</th>\n",
       "      <th>V26</th>\n",
       "      <th>V27</th>\n",
       "      <th>V28</th>\n",
       "      <th>Amount</th>\n",
       "      <th>Class</th>\n",
       "    </tr>\n",
       "  </thead>\n",
       "  <tbody>\n",
       "    <tr>\n",
       "      <th>count</th>\n",
       "      <td>284807.000000</td>\n",
       "      <td>2.848070e+05</td>\n",
       "      <td>2.848070e+05</td>\n",
       "      <td>2.848070e+05</td>\n",
       "      <td>2.848070e+05</td>\n",
       "      <td>2.848070e+05</td>\n",
       "      <td>2.848070e+05</td>\n",
       "      <td>2.848070e+05</td>\n",
       "      <td>2.848070e+05</td>\n",
       "      <td>2.848070e+05</td>\n",
       "      <td>...</td>\n",
       "      <td>2.848070e+05</td>\n",
       "      <td>2.848070e+05</td>\n",
       "      <td>2.848070e+05</td>\n",
       "      <td>2.848070e+05</td>\n",
       "      <td>2.848070e+05</td>\n",
       "      <td>2.848070e+05</td>\n",
       "      <td>2.848070e+05</td>\n",
       "      <td>2.848070e+05</td>\n",
       "      <td>284807.000000</td>\n",
       "      <td>284807.000000</td>\n",
       "    </tr>\n",
       "    <tr>\n",
       "      <th>mean</th>\n",
       "      <td>94813.859575</td>\n",
       "      <td>1.759061e-12</td>\n",
       "      <td>-8.251130e-13</td>\n",
       "      <td>-9.654937e-13</td>\n",
       "      <td>8.321385e-13</td>\n",
       "      <td>1.649999e-13</td>\n",
       "      <td>4.248366e-13</td>\n",
       "      <td>-3.054600e-13</td>\n",
       "      <td>8.777971e-14</td>\n",
       "      <td>-1.179749e-12</td>\n",
       "      <td>...</td>\n",
       "      <td>-3.405756e-13</td>\n",
       "      <td>-5.723197e-13</td>\n",
       "      <td>-9.725856e-13</td>\n",
       "      <td>1.464150e-12</td>\n",
       "      <td>-6.987102e-13</td>\n",
       "      <td>-5.617874e-13</td>\n",
       "      <td>3.332082e-12</td>\n",
       "      <td>-3.518874e-12</td>\n",
       "      <td>88.349619</td>\n",
       "      <td>0.001727</td>\n",
       "    </tr>\n",
       "    <tr>\n",
       "      <th>std</th>\n",
       "      <td>47488.145955</td>\n",
       "      <td>1.958696e+00</td>\n",
       "      <td>1.651309e+00</td>\n",
       "      <td>1.516255e+00</td>\n",
       "      <td>1.415869e+00</td>\n",
       "      <td>1.380247e+00</td>\n",
       "      <td>1.332271e+00</td>\n",
       "      <td>1.237094e+00</td>\n",
       "      <td>1.194353e+00</td>\n",
       "      <td>1.098632e+00</td>\n",
       "      <td>...</td>\n",
       "      <td>7.345240e-01</td>\n",
       "      <td>7.257016e-01</td>\n",
       "      <td>6.244603e-01</td>\n",
       "      <td>6.056471e-01</td>\n",
       "      <td>5.212781e-01</td>\n",
       "      <td>4.822270e-01</td>\n",
       "      <td>4.036325e-01</td>\n",
       "      <td>3.300833e-01</td>\n",
       "      <td>250.120109</td>\n",
       "      <td>0.041527</td>\n",
       "    </tr>\n",
       "    <tr>\n",
       "      <th>min</th>\n",
       "      <td>0.000000</td>\n",
       "      <td>-5.640751e+01</td>\n",
       "      <td>-7.271573e+01</td>\n",
       "      <td>-4.832559e+01</td>\n",
       "      <td>-5.683171e+00</td>\n",
       "      <td>-1.137433e+02</td>\n",
       "      <td>-2.616051e+01</td>\n",
       "      <td>-4.355724e+01</td>\n",
       "      <td>-7.321672e+01</td>\n",
       "      <td>-1.343407e+01</td>\n",
       "      <td>...</td>\n",
       "      <td>-3.483038e+01</td>\n",
       "      <td>-1.093314e+01</td>\n",
       "      <td>-4.480774e+01</td>\n",
       "      <td>-2.836627e+00</td>\n",
       "      <td>-1.029540e+01</td>\n",
       "      <td>-2.604551e+00</td>\n",
       "      <td>-2.256568e+01</td>\n",
       "      <td>-1.543008e+01</td>\n",
       "      <td>0.000000</td>\n",
       "      <td>0.000000</td>\n",
       "    </tr>\n",
       "    <tr>\n",
       "      <th>25%</th>\n",
       "      <td>54201.500000</td>\n",
       "      <td>-9.203734e-01</td>\n",
       "      <td>-5.985499e-01</td>\n",
       "      <td>-8.903648e-01</td>\n",
       "      <td>-8.486401e-01</td>\n",
       "      <td>-6.915971e-01</td>\n",
       "      <td>-7.682956e-01</td>\n",
       "      <td>-5.540759e-01</td>\n",
       "      <td>-2.086297e-01</td>\n",
       "      <td>-6.430976e-01</td>\n",
       "      <td>...</td>\n",
       "      <td>-2.283949e-01</td>\n",
       "      <td>-5.423504e-01</td>\n",
       "      <td>-1.618463e-01</td>\n",
       "      <td>-3.545861e-01</td>\n",
       "      <td>-3.171451e-01</td>\n",
       "      <td>-3.269839e-01</td>\n",
       "      <td>-7.083953e-02</td>\n",
       "      <td>-5.295979e-02</td>\n",
       "      <td>5.600000</td>\n",
       "      <td>0.000000</td>\n",
       "    </tr>\n",
       "    <tr>\n",
       "      <th>50%</th>\n",
       "      <td>84692.000000</td>\n",
       "      <td>1.810880e-02</td>\n",
       "      <td>6.548556e-02</td>\n",
       "      <td>1.798463e-01</td>\n",
       "      <td>-1.984653e-02</td>\n",
       "      <td>-5.433583e-02</td>\n",
       "      <td>-2.741871e-01</td>\n",
       "      <td>4.010308e-02</td>\n",
       "      <td>2.235804e-02</td>\n",
       "      <td>-5.142873e-02</td>\n",
       "      <td>...</td>\n",
       "      <td>-2.945017e-02</td>\n",
       "      <td>6.781943e-03</td>\n",
       "      <td>-1.119293e-02</td>\n",
       "      <td>4.097606e-02</td>\n",
       "      <td>1.659350e-02</td>\n",
       "      <td>-5.213911e-02</td>\n",
       "      <td>1.342146e-03</td>\n",
       "      <td>1.124383e-02</td>\n",
       "      <td>22.000000</td>\n",
       "      <td>0.000000</td>\n",
       "    </tr>\n",
       "    <tr>\n",
       "      <th>75%</th>\n",
       "      <td>139320.500000</td>\n",
       "      <td>1.315642e+00</td>\n",
       "      <td>8.037239e-01</td>\n",
       "      <td>1.027196e+00</td>\n",
       "      <td>7.433413e-01</td>\n",
       "      <td>6.119264e-01</td>\n",
       "      <td>3.985649e-01</td>\n",
       "      <td>5.704361e-01</td>\n",
       "      <td>3.273459e-01</td>\n",
       "      <td>5.971390e-01</td>\n",
       "      <td>...</td>\n",
       "      <td>1.863772e-01</td>\n",
       "      <td>5.285536e-01</td>\n",
       "      <td>1.476421e-01</td>\n",
       "      <td>4.395266e-01</td>\n",
       "      <td>3.507156e-01</td>\n",
       "      <td>2.409522e-01</td>\n",
       "      <td>9.104512e-02</td>\n",
       "      <td>7.827995e-02</td>\n",
       "      <td>77.165000</td>\n",
       "      <td>0.000000</td>\n",
       "    </tr>\n",
       "    <tr>\n",
       "      <th>max</th>\n",
       "      <td>172792.000000</td>\n",
       "      <td>2.454930e+00</td>\n",
       "      <td>2.205773e+01</td>\n",
       "      <td>9.382558e+00</td>\n",
       "      <td>1.687534e+01</td>\n",
       "      <td>3.480167e+01</td>\n",
       "      <td>7.330163e+01</td>\n",
       "      <td>1.205895e+02</td>\n",
       "      <td>2.000721e+01</td>\n",
       "      <td>1.559499e+01</td>\n",
       "      <td>...</td>\n",
       "      <td>2.720284e+01</td>\n",
       "      <td>1.050309e+01</td>\n",
       "      <td>2.252841e+01</td>\n",
       "      <td>4.584549e+00</td>\n",
       "      <td>7.519589e+00</td>\n",
       "      <td>3.517346e+00</td>\n",
       "      <td>3.161220e+01</td>\n",
       "      <td>3.384781e+01</td>\n",
       "      <td>25691.160000</td>\n",
       "      <td>1.000000</td>\n",
       "    </tr>\n",
       "  </tbody>\n",
       "</table>\n",
       "<p>8 rows × 31 columns</p>\n",
       "</div>"
      ],
      "text/plain": [
       "                Time            V1            V2            V3            V4  \\\n",
       "count  284807.000000  2.848070e+05  2.848070e+05  2.848070e+05  2.848070e+05   \n",
       "mean    94813.859575  1.759061e-12 -8.251130e-13 -9.654937e-13  8.321385e-13   \n",
       "std     47488.145955  1.958696e+00  1.651309e+00  1.516255e+00  1.415869e+00   \n",
       "min         0.000000 -5.640751e+01 -7.271573e+01 -4.832559e+01 -5.683171e+00   \n",
       "25%     54201.500000 -9.203734e-01 -5.985499e-01 -8.903648e-01 -8.486401e-01   \n",
       "50%     84692.000000  1.810880e-02  6.548556e-02  1.798463e-01 -1.984653e-02   \n",
       "75%    139320.500000  1.315642e+00  8.037239e-01  1.027196e+00  7.433413e-01   \n",
       "max    172792.000000  2.454930e+00  2.205773e+01  9.382558e+00  1.687534e+01   \n",
       "\n",
       "                 V5            V6            V7            V8            V9  \\\n",
       "count  2.848070e+05  2.848070e+05  2.848070e+05  2.848070e+05  2.848070e+05   \n",
       "mean   1.649999e-13  4.248366e-13 -3.054600e-13  8.777971e-14 -1.179749e-12   \n",
       "std    1.380247e+00  1.332271e+00  1.237094e+00  1.194353e+00  1.098632e+00   \n",
       "min   -1.137433e+02 -2.616051e+01 -4.355724e+01 -7.321672e+01 -1.343407e+01   \n",
       "25%   -6.915971e-01 -7.682956e-01 -5.540759e-01 -2.086297e-01 -6.430976e-01   \n",
       "50%   -5.433583e-02 -2.741871e-01  4.010308e-02  2.235804e-02 -5.142873e-02   \n",
       "75%    6.119264e-01  3.985649e-01  5.704361e-01  3.273459e-01  5.971390e-01   \n",
       "max    3.480167e+01  7.330163e+01  1.205895e+02  2.000721e+01  1.559499e+01   \n",
       "\n",
       "       ...           V21           V22           V23           V24  \\\n",
       "count  ...  2.848070e+05  2.848070e+05  2.848070e+05  2.848070e+05   \n",
       "mean   ... -3.405756e-13 -5.723197e-13 -9.725856e-13  1.464150e-12   \n",
       "std    ...  7.345240e-01  7.257016e-01  6.244603e-01  6.056471e-01   \n",
       "min    ... -3.483038e+01 -1.093314e+01 -4.480774e+01 -2.836627e+00   \n",
       "25%    ... -2.283949e-01 -5.423504e-01 -1.618463e-01 -3.545861e-01   \n",
       "50%    ... -2.945017e-02  6.781943e-03 -1.119293e-02  4.097606e-02   \n",
       "75%    ...  1.863772e-01  5.285536e-01  1.476421e-01  4.395266e-01   \n",
       "max    ...  2.720284e+01  1.050309e+01  2.252841e+01  4.584549e+00   \n",
       "\n",
       "                V25           V26           V27           V28         Amount  \\\n",
       "count  2.848070e+05  2.848070e+05  2.848070e+05  2.848070e+05  284807.000000   \n",
       "mean  -6.987102e-13 -5.617874e-13  3.332082e-12 -3.518874e-12      88.349619   \n",
       "std    5.212781e-01  4.822270e-01  4.036325e-01  3.300833e-01     250.120109   \n",
       "min   -1.029540e+01 -2.604551e+00 -2.256568e+01 -1.543008e+01       0.000000   \n",
       "25%   -3.171451e-01 -3.269839e-01 -7.083953e-02 -5.295979e-02       5.600000   \n",
       "50%    1.659350e-02 -5.213911e-02  1.342146e-03  1.124383e-02      22.000000   \n",
       "75%    3.507156e-01  2.409522e-01  9.104512e-02  7.827995e-02      77.165000   \n",
       "max    7.519589e+00  3.517346e+00  3.161220e+01  3.384781e+01   25691.160000   \n",
       "\n",
       "               Class  \n",
       "count  284807.000000  \n",
       "mean        0.001727  \n",
       "std         0.041527  \n",
       "min         0.000000  \n",
       "25%         0.000000  \n",
       "50%         0.000000  \n",
       "75%         0.000000  \n",
       "max         1.000000  \n",
       "\n",
       "[8 rows x 31 columns]"
      ]
     },
     "execution_count": 3,
     "metadata": {},
     "output_type": "execute_result"
    }
   ],
   "source": [
    "# data.isnull().sum()\n",
    "# data.info()\n",
    "data.describe()"
   ]
  },
  {
   "cell_type": "code",
   "execution_count": 4,
   "id": "31175941",
   "metadata": {},
   "outputs": [],
   "source": [
    "# # import the dataset\n",
    "\n",
    "# data.head()"
   ]
  },
  {
   "cell_type": "code",
   "execution_count": 5,
   "id": "5b5036ab",
   "metadata": {},
   "outputs": [
    {
     "data": {
      "text/plain": [
       "Time      0\n",
       "V1        0\n",
       "V2        0\n",
       "V3        0\n",
       "V4        0\n",
       "V5        0\n",
       "V6        0\n",
       "V7        0\n",
       "V8        0\n",
       "V9        0\n",
       "V10       0\n",
       "V11       0\n",
       "V12       0\n",
       "V13       0\n",
       "V14       0\n",
       "V15       0\n",
       "V16       0\n",
       "V17       0\n",
       "V18       0\n",
       "V19       0\n",
       "V20       0\n",
       "V21       0\n",
       "V22       0\n",
       "V23       0\n",
       "V24       0\n",
       "V25       0\n",
       "V26       0\n",
       "V27       0\n",
       "V28       0\n",
       "Amount    0\n",
       "Class     0\n",
       "dtype: int64"
      ]
     },
     "execution_count": 5,
     "metadata": {},
     "output_type": "execute_result"
    }
   ],
   "source": [
    "data.isnull().sum()"
   ]
  },
  {
   "cell_type": "code",
   "execution_count": 6,
   "id": "4a6fee16",
   "metadata": {},
   "outputs": [
    {
     "data": {
      "text/plain": [
       "0    284315\n",
       "1       492\n",
       "Name: Class, dtype: int64"
      ]
     },
     "execution_count": 6,
     "metadata": {},
     "output_type": "execute_result"
    }
   ],
   "source": [
    "data['Class'].value_counts()"
   ]
  },
  {
   "cell_type": "code",
   "execution_count": 7,
   "id": "43ff5b12",
   "metadata": {},
   "outputs": [],
   "source": [
    "# data.Class.value_counts()"
   ]
  },
  {
   "cell_type": "code",
   "execution_count": 8,
   "id": "30e2e0d3",
   "metadata": {},
   "outputs": [
    {
     "data": {
      "text/plain": [
       "284807"
      ]
     },
     "execution_count": 8,
     "metadata": {},
     "output_type": "execute_result"
    }
   ],
   "source": [
    "284315+492"
   ]
  },
  {
   "cell_type": "code",
   "execution_count": 9,
   "id": "f8032cc6",
   "metadata": {},
   "outputs": [
    {
     "data": {
      "text/plain": [
       "0.001727485630620034"
      ]
     },
     "execution_count": 9,
     "metadata": {},
     "output_type": "execute_result"
    }
   ],
   "source": [
    "492/284807"
   ]
  },
  {
   "cell_type": "raw",
   "id": "b6d2a44b",
   "metadata": {},
   "source": [
    "# EDA Exploratory Data Analysis (EDA): is an approach to analyze the data using visual techniques. It is used to discover trends, patterns, or to check assumptions with the help of statistical summary and graphical representations. \n",
    "-- dtale \n",
    "-- dataprep\n",
    "-- lux\n",
    "-- pandas profiling"
   ]
  },
  {
   "cell_type": "code",
   "execution_count": 10,
   "id": "c15bfc53",
   "metadata": {},
   "outputs": [],
   "source": [
    "# !pip install pandas-profiling"
   ]
  },
  {
   "cell_type": "markdown",
   "id": "c96b5e30",
   "metadata": {},
   "source": [
    "from pandas_profiling import ProfileReport\n",
    "prof = ProfileReport(data)\n",
    "prof.to_file(output_file = 'output.html')"
   ]
  },
  {
   "cell_type": "code",
   "execution_count": 11,
   "id": "cb125dea",
   "metadata": {},
   "outputs": [
    {
     "data": {
      "image/png": "[encoded data removed]",
      "text/plain": [
       "<Figure size 1500x1200 with 1 Axes>"
      ]
     },
     "metadata": {},
     "output_type": "display_data"
    }
   ],
   "source": [
    "# count_classes = pd.value_counts(data['Class'], sort=True)\n",
    "# count_classes.plot(kind='bar', rot=0)\n",
    "# plt.title(\"Transaction class distribution\")\n",
    "# plt.xticks(range(2),LABELS)\n",
    "# plt.xlabel('Class')\n",
    "# plt.ylabel(\"Frequency\")\n",
    "# plt.show()\n",
    "count_classes = pd.value_counts(data['Class'], sort=True)\n",
    "count_classes.plot(kind='bar', rot=0)\n",
    "plt.title(\"Transaction class distribution\")\n",
    "plt.xticks(range(2),['normal','fruad' ])\n",
    "plt.xlabel('Class')\n",
    "plt.ylabel(\"Frequency\")\n",
    "plt.show()"
   ]
  },
  {
   "cell_type": "code",
   "execution_count": 12,
   "id": "b3c1f7a0",
   "metadata": {},
   "outputs": [
    {
     "data": {
      "text/plain": [
       "Text(0, 0.5, 'frequency')"
      ]
     },
     "execution_count": 12,
     "metadata": {},
     "output_type": "execute_result"
    },
    {
     "data": {
      "image/png": "[encoded data removed]",
      "text/plain": [
       "<Figure size 1500x1200 with 1 Axes>"
      ]
     },
     "metadata": {},
     "output_type": "display_data"
    }
   ],
   "source": [
    "count_data = data['Class'].value_counts()\n",
    "# count_data\n",
    "plt.bar(LABELS,count_data)\n",
    "plt.title('transation class ditection')\n",
    "plt.xlabel('class')\n",
    "plt.ylabel('frequency')"
   ]
  },
  {
   "cell_type": "code",
   "execution_count": 13,
   "id": "12b63e4e",
   "metadata": {},
   "outputs": [],
   "source": [
    "# fraud = data[data['Class']==1]\n",
    "# normal = data[data['Class']==0]\n",
    "# print(fraud.shape, normal.shape)"
   ]
  },
  {
   "cell_type": "code",
   "execution_count": 14,
   "id": "fb35aa07",
   "metadata": {},
   "outputs": [
    {
     "data": {
      "text/plain": [
       "(492, 31)"
      ]
     },
     "execution_count": 14,
     "metadata": {},
     "output_type": "execute_result"
    }
   ],
   "source": [
    "fraud =data[data.Class ==1] #just want to see my related\n",
    "normal = data[data.Class ==0]\n",
    "fraud.shape"
   ]
  },
  {
   "cell_type": "code",
   "execution_count": 15,
   "id": "c63bf483",
   "metadata": {},
   "outputs": [
    {
     "data": {
      "text/plain": [
       "0.001727485630620034"
      ]
     },
     "execution_count": 15,
     "metadata": {},
     "output_type": "execute_result"
    }
   ],
   "source": [
    "492/(492+284315)"
   ]
  },
  {
   "cell_type": "code",
   "execution_count": 16,
   "id": "b6d1b1b2",
   "metadata": {},
   "outputs": [
    {
     "data": {
      "text/plain": [
       "count    284315.000000\n",
       "mean         88.291022\n",
       "std         250.105092\n",
       "min           0.000000\n",
       "25%           5.650000\n",
       "50%          22.000000\n",
       "75%          77.050000\n",
       "max       25691.160000\n",
       "Name: Amount, dtype: float64"
      ]
     },
     "execution_count": 16,
     "metadata": {},
     "output_type": "execute_result"
    }
   ],
   "source": [
    "normal.Amount.describe()"
   ]
  },
  {
   "cell_type": "code",
   "execution_count": 17,
   "id": "36a99e91",
   "metadata": {},
   "outputs": [
    {
     "data": {
      "text/plain": [
       "count    284315.000000\n",
       "mean         88.291022\n",
       "std         250.105092\n",
       "min           0.000000\n",
       "25%           5.650000\n",
       "50%          22.000000\n",
       "75%          77.050000\n",
       "max       25691.160000\n",
       "Name: Amount, dtype: float64"
      ]
     },
     "execution_count": 17,
     "metadata": {},
     "output_type": "execute_result"
    }
   ],
   "source": [
    "normal.Amount.describe()"
   ]
  },
  {
   "cell_type": "code",
   "execution_count": 18,
   "id": "3d196dde",
   "metadata": {},
   "outputs": [
    {
     "data": {
      "text/plain": [
       "count     492.000000\n",
       "mean      122.211321\n",
       "std       256.683288\n",
       "min         0.000000\n",
       "25%         1.000000\n",
       "50%         9.250000\n",
       "75%       105.890000\n",
       "max      2125.870000\n",
       "Name: Amount, dtype: float64"
      ]
     },
     "execution_count": 18,
     "metadata": {},
     "output_type": "execute_result"
    }
   ],
   "source": [
    "fraud.Amount.describe()"
   ]
  },
  {
   "cell_type": "code",
   "execution_count": 19,
   "id": "16c87b91",
   "metadata": {},
   "outputs": [
    {
     "data": {
      "text/plain": [
       "Text(0.5, 1.0, 'normal transation')"
      ]
     },
     "execution_count": 19,
     "metadata": {},
     "output_type": "execute_result"
    },
    {
     "data": {
      "image/png": "[encoded data removed]",
      "text/plain": [
       "<Figure size 1500x1200 with 2 Axes>"
      ]
     },
     "metadata": {},
     "output_type": "display_data"
    }
   ],
   "source": [
    "f,( ax1,ax2) = plt.subplots(2,1,sharex=True)\n",
    "f.suptitle('transation ')\n",
    "ax1.hist(fraud.Amount)\n",
    "ax1.set_title('fraud transation')\n",
    "ax2.hist(normal.Amount)\n",
    "ax2.set_title('normal transation')"
   ]
  },
  {
   "cell_type": "code",
   "execution_count": 20,
   "id": "e5d57d1b",
   "metadata": {},
   "outputs": [
    {
     "data": {
      "image/png": "[encoded data removed]",
      "text/plain": [
       "<Figure size 1500x1200 with 2 Axes>"
      ]
     },
     "metadata": {},
     "output_type": "display_data"
    }
   ],
   "source": [
    "f, (ax1, ax2) = plt.subplots(2,1, sharex=True)\n",
    "f.suptitle(\"Amount per transaction by Class\")\n",
    "# bins = 50\n",
    "ax1.hist(fraud.Amount)\n",
    "ax1.set_title('Fraud Transaction')\n",
    "\n",
    "\n",
    "ax2.hist(normal.Amount)\n",
    "ax2.set_title('Normal Transaction')\n",
    "\n",
    "plt.xlabel(\"Amount ($)\")\n",
    "plt.ylabel(\"No. of Transaction\")\n",
    "\n",
    "plt.xlim(0,25000)\n",
    "plt.yscale('log')\n",
    "plt.show()"
   ]
  },
  {
   "cell_type": "code",
   "execution_count": null,
   "id": "ccd7a3dd",
   "metadata": {},
   "outputs": [],
   "source": []
  },
  {
   "cell_type": "code",
   "execution_count": 22,
   "id": "5238e53a",
   "metadata": {},
   "outputs": [
    {
     "data": {
      "image/png": "[encoded data removed]",
      "text/plain": [
       "<Figure size 1500x1200 with 2 Axes>"
      ]
     },
     "metadata": {},
     "output_type": "display_data"
    }
   ],
   "source": [
    "f, (ax1, ax2) = plt.subplots(2,1, sharex=True)\n",
    "f.suptitle(\"Time of transaction vs Amount by Class\")\n",
    "\n",
    "ax1.scatter(fraud.Time, fraud.Amount)\n",
    "ax1.set_title('Fraud Transaction by Time')\n",
    "\n",
    "ax2.scatter(normal.Time, normal.Amount)\n",
    "ax2.set_title('Normal Transaction by Time')\n",
    "\n",
    "plt.xlabel(\"Time (in Second)\")\n",
    "plt.ylabel(\"Amount\")\n",
    "\n",
    "plt.show()"
   ]
  },
  {
   "cell_type": "code",
   "execution_count": 23,
   "id": "6cf82e34",
   "metadata": {},
   "outputs": [
    {
     "data": {
      "text/plain": [
       "(284807, 31)"
      ]
     },
     "execution_count": 23,
     "metadata": {},
     "output_type": "execute_result"
    }
   ],
   "source": [
    "data.shape"
   ]
  },
  {
   "cell_type": "code",
   "execution_count": null,
   "id": "cbfe296c",
   "metadata": {},
   "outputs": [],
   "source": []
  },
  {
   "cell_type": "code",
   "execution_count": 24,
   "id": "4cf2b6e6",
   "metadata": {},
   "outputs": [],
   "source": [
    "# we are taking 10% data only for building a model\n",
    "# Please try to replicate the same with all data - Task"
   ]
  },
  {
   "cell_type": "code",
   "execution_count": 25,
   "id": "62f6a7cd",
   "metadata": {},
   "outputs": [
    {
     "data": {
      "text/plain": [
       "(56961, 31)"
      ]
     },
     "execution_count": 25,
     "metadata": {},
     "output_type": "execute_result"
    }
   ],
   "source": [
    "data1 = data.sample(frac=0.2, random_state=1000)\n",
    "data1.shape"
   ]
  },
  {
   "cell_type": "code",
   "execution_count": 26,
   "id": "f05a0735",
   "metadata": {},
   "outputs": [
    {
     "name": "stdout",
     "output_type": "stream",
     "text": [
      "(106, 31)\n",
      "(56855, 31)\n"
     ]
    }
   ],
   "source": [
    "fraud = data1[data1['Class']==1]\n",
    "valid = data1[data1['Class']==0]\n",
    "\n",
    "print(fraud.shape)\n",
    "print(valid.shape)"
   ]
  },
  {
   "cell_type": "code",
   "execution_count": 27,
   "id": "213096bf",
   "metadata": {},
   "outputs": [],
   "source": [
    "outlier_fraction = 106/(106+56858)"
   ]
  },
  {
   "cell_type": "code",
   "execution_count": 28,
   "id": "3800e551",
   "metadata": {},
   "outputs": [
    {
     "data": {
      "text/plain": [
       "0.0018608243803103714"
      ]
     },
     "execution_count": 28,
     "metadata": {},
     "output_type": "execute_result"
    }
   ],
   "source": [
    "outlier_fraction"
   ]
  },
  {
   "cell_type": "code",
   "execution_count": 29,
   "id": "5afad75b",
   "metadata": {},
   "outputs": [
    {
     "data": {
      "text/html": [
       "<div>\n",
       "<style scoped>\n",
       "    .dataframe tbody tr th:only-of-type {\n",
       "        vertical-align: middle;\n",
       "    }\n",
       "\n",
       "    .dataframe tbody tr th {\n",
       "        vertical-align: top;\n",
       "    }\n",
       "\n",
       "    .dataframe thead th {\n",
       "        text-align: right;\n",
       "    }\n",
       "</style>\n",
       "<table border=\"1\" class=\"dataframe\">\n",
       "  <thead>\n",
       "    <tr style=\"text-align: right;\">\n",
       "      <th></th>\n",
       "      <th>Time</th>\n",
       "      <th>V1</th>\n",
       "      <th>V2</th>\n",
       "      <th>V3</th>\n",
       "      <th>V4</th>\n",
       "      <th>V5</th>\n",
       "      <th>V6</th>\n",
       "      <th>V7</th>\n",
       "      <th>V8</th>\n",
       "      <th>V9</th>\n",
       "      <th>...</th>\n",
       "      <th>V21</th>\n",
       "      <th>V22</th>\n",
       "      <th>V23</th>\n",
       "      <th>V24</th>\n",
       "      <th>V25</th>\n",
       "      <th>V26</th>\n",
       "      <th>V27</th>\n",
       "      <th>V28</th>\n",
       "      <th>Amount</th>\n",
       "      <th>Class</th>\n",
       "    </tr>\n",
       "  </thead>\n",
       "  <tbody>\n",
       "    <tr>\n",
       "      <th>198800</th>\n",
       "      <td>132658.0</td>\n",
       "      <td>2.056433</td>\n",
       "      <td>-0.316915</td>\n",
       "      <td>-2.789687</td>\n",
       "      <td>-0.775164</td>\n",
       "      <td>2.497163</td>\n",
       "      <td>3.164444</td>\n",
       "      <td>-0.396550</td>\n",
       "      <td>0.715194</td>\n",
       "      <td>0.448127</td>\n",
       "      <td>...</td>\n",
       "      <td>0.243647</td>\n",
       "      <td>0.743975</td>\n",
       "      <td>0.037861</td>\n",
       "      <td>0.737525</td>\n",
       "      <td>0.302948</td>\n",
       "      <td>-0.087858</td>\n",
       "      <td>-0.001144</td>\n",
       "      <td>-0.064954</td>\n",
       "      <td>3.80</td>\n",
       "      <td>0</td>\n",
       "    </tr>\n",
       "    <tr>\n",
       "      <th>95536</th>\n",
       "      <td>65359.0</td>\n",
       "      <td>-0.476480</td>\n",
       "      <td>0.967301</td>\n",
       "      <td>1.660071</td>\n",
       "      <td>0.000008</td>\n",
       "      <td>-0.106866</td>\n",
       "      <td>-0.624360</td>\n",
       "      <td>0.599600</td>\n",
       "      <td>0.085344</td>\n",
       "      <td>-0.329163</td>\n",
       "      <td>...</td>\n",
       "      <td>-0.186026</td>\n",
       "      <td>-0.470205</td>\n",
       "      <td>0.055860</td>\n",
       "      <td>0.364065</td>\n",
       "      <td>-0.331242</td>\n",
       "      <td>0.082720</td>\n",
       "      <td>0.278155</td>\n",
       "      <td>0.119504</td>\n",
       "      <td>3.57</td>\n",
       "      <td>0</td>\n",
       "    </tr>\n",
       "    <tr>\n",
       "      <th>180242</th>\n",
       "      <td>124448.0</td>\n",
       "      <td>1.943666</td>\n",
       "      <td>-1.029557</td>\n",
       "      <td>-1.276665</td>\n",
       "      <td>-0.427737</td>\n",
       "      <td>-0.815657</td>\n",
       "      <td>-1.007531</td>\n",
       "      <td>-0.293930</td>\n",
       "      <td>-0.238641</td>\n",
       "      <td>-0.743251</td>\n",
       "      <td>...</td>\n",
       "      <td>-0.027971</td>\n",
       "      <td>0.203359</td>\n",
       "      <td>0.049295</td>\n",
       "      <td>0.092062</td>\n",
       "      <td>-0.178437</td>\n",
       "      <td>0.762153</td>\n",
       "      <td>-0.089487</td>\n",
       "      <td>-0.057625</td>\n",
       "      <td>107.77</td>\n",
       "      <td>0</td>\n",
       "    </tr>\n",
       "    <tr>\n",
       "      <th>278892</th>\n",
       "      <td>168508.0</td>\n",
       "      <td>-0.343991</td>\n",
       "      <td>1.475547</td>\n",
       "      <td>0.349266</td>\n",
       "      <td>1.211181</td>\n",
       "      <td>-0.510325</td>\n",
       "      <td>-1.281538</td>\n",
       "      <td>0.455647</td>\n",
       "      <td>0.011873</td>\n",
       "      <td>-0.737317</td>\n",
       "      <td>...</td>\n",
       "      <td>0.463618</td>\n",
       "      <td>1.563284</td>\n",
       "      <td>-0.107122</td>\n",
       "      <td>1.032006</td>\n",
       "      <td>-0.465200</td>\n",
       "      <td>0.211401</td>\n",
       "      <td>0.238458</td>\n",
       "      <td>0.208167</td>\n",
       "      <td>7.84</td>\n",
       "      <td>0</td>\n",
       "    </tr>\n",
       "    <tr>\n",
       "      <th>85098</th>\n",
       "      <td>60601.0</td>\n",
       "      <td>1.185368</td>\n",
       "      <td>0.248102</td>\n",
       "      <td>1.110961</td>\n",
       "      <td>2.448941</td>\n",
       "      <td>-0.387718</td>\n",
       "      <td>0.503952</td>\n",
       "      <td>-0.546283</td>\n",
       "      <td>0.203680</td>\n",
       "      <td>0.070122</td>\n",
       "      <td>...</td>\n",
       "      <td>-0.102446</td>\n",
       "      <td>-0.226039</td>\n",
       "      <td>-0.052715</td>\n",
       "      <td>-0.481575</td>\n",
       "      <td>0.368006</td>\n",
       "      <td>0.004532</td>\n",
       "      <td>0.033685</td>\n",
       "      <td>0.027790</td>\n",
       "      <td>4.72</td>\n",
       "      <td>0</td>\n",
       "    </tr>\n",
       "  </tbody>\n",
       "</table>\n",
       "<p>5 rows × 31 columns</p>\n",
       "</div>"
      ],
      "text/plain": [
       "            Time        V1        V2        V3        V4        V5        V6  \\\n",
       "198800  132658.0  2.056433 -0.316915 -2.789687 -0.775164  2.497163  3.164444   \n",
       "95536    65359.0 -0.476480  0.967301  1.660071  0.000008 -0.106866 -0.624360   \n",
       "180242  124448.0  1.943666 -1.029557 -1.276665 -0.427737 -0.815657 -1.007531   \n",
       "278892  168508.0 -0.343991  1.475547  0.349266  1.211181 -0.510325 -1.281538   \n",
       "85098    60601.0  1.185368  0.248102  1.110961  2.448941 -0.387718  0.503952   \n",
       "\n",
       "              V7        V8        V9  ...       V21       V22       V23  \\\n",
       "198800 -0.396550  0.715194  0.448127  ...  0.243647  0.743975  0.037861   \n",
       "95536   0.599600  0.085344 -0.329163  ... -0.186026 -0.470205  0.055860   \n",
       "180242 -0.293930 -0.238641 -0.743251  ... -0.027971  0.203359  0.049295   \n",
       "278892  0.455647  0.011873 -0.737317  ...  0.463618  1.563284 -0.107122   \n",
       "85098  -0.546283  0.203680  0.070122  ... -0.102446 -0.226039 -0.052715   \n",
       "\n",
       "             V24       V25       V26       V27       V28  Amount  Class  \n",
       "198800  0.737525  0.302948 -0.087858 -0.001144 -0.064954    3.80      0  \n",
       "95536   0.364065 -0.331242  0.082720  0.278155  0.119504    3.57      0  \n",
       "180242  0.092062 -0.178437  0.762153 -0.089487 -0.057625  107.77      0  \n",
       "278892  1.032006 -0.465200  0.211401  0.238458  0.208167    7.84      0  \n",
       "85098  -0.481575  0.368006  0.004532  0.033685  0.027790    4.72      0  \n",
       "\n",
       "[5 rows x 31 columns]"
      ]
     },
     "execution_count": 29,
     "metadata": {},
     "output_type": "execute_result"
    }
   ],
   "source": [
    "data1.head()"
   ]
  },
  {
   "cell_type": "code",
   "execution_count": 30,
   "id": "e7141e66",
   "metadata": {},
   "outputs": [],
   "source": [
    "columns = data1.iloc[:,1:-1]\n",
    "target = data1.iloc[:,-1]"
   ]
  },
  {
   "cell_type": "code",
   "execution_count": 31,
   "id": "25d7bbec",
   "metadata": {},
   "outputs": [
    {
     "data": {
      "text/html": [
       "<div>\n",
       "<style scoped>\n",
       "    .dataframe tbody tr th:only-of-type {\n",
       "        vertical-align: middle;\n",
       "    }\n",
       "\n",
       "    .dataframe tbody tr th {\n",
       "        vertical-align: top;\n",
       "    }\n",
       "\n",
       "    .dataframe thead th {\n",
       "        text-align: right;\n",
       "    }\n",
       "</style>\n",
       "<table border=\"1\" class=\"dataframe\">\n",
       "  <thead>\n",
       "    <tr style=\"text-align: right;\">\n",
       "      <th></th>\n",
       "      <th>V1</th>\n",
       "      <th>V2</th>\n",
       "      <th>V3</th>\n",
       "      <th>V4</th>\n",
       "      <th>V5</th>\n",
       "      <th>V6</th>\n",
       "      <th>V7</th>\n",
       "      <th>V8</th>\n",
       "      <th>V9</th>\n",
       "      <th>V10</th>\n",
       "      <th>...</th>\n",
       "      <th>V20</th>\n",
       "      <th>V21</th>\n",
       "      <th>V22</th>\n",
       "      <th>V23</th>\n",
       "      <th>V24</th>\n",
       "      <th>V25</th>\n",
       "      <th>V26</th>\n",
       "      <th>V27</th>\n",
       "      <th>V28</th>\n",
       "      <th>Amount</th>\n",
       "    </tr>\n",
       "  </thead>\n",
       "  <tbody>\n",
       "    <tr>\n",
       "      <th>198800</th>\n",
       "      <td>2.056433</td>\n",
       "      <td>-0.316915</td>\n",
       "      <td>-2.789687</td>\n",
       "      <td>-0.775164</td>\n",
       "      <td>2.497163</td>\n",
       "      <td>3.164444</td>\n",
       "      <td>-0.396550</td>\n",
       "      <td>0.715194</td>\n",
       "      <td>0.448127</td>\n",
       "      <td>0.031925</td>\n",
       "      <td>...</td>\n",
       "      <td>-0.165740</td>\n",
       "      <td>0.243647</td>\n",
       "      <td>0.743975</td>\n",
       "      <td>0.037861</td>\n",
       "      <td>0.737525</td>\n",
       "      <td>0.302948</td>\n",
       "      <td>-0.087858</td>\n",
       "      <td>-0.001144</td>\n",
       "      <td>-0.064954</td>\n",
       "      <td>3.80</td>\n",
       "    </tr>\n",
       "    <tr>\n",
       "      <th>95536</th>\n",
       "      <td>-0.476480</td>\n",
       "      <td>0.967301</td>\n",
       "      <td>1.660071</td>\n",
       "      <td>0.000008</td>\n",
       "      <td>-0.106866</td>\n",
       "      <td>-0.624360</td>\n",
       "      <td>0.599600</td>\n",
       "      <td>0.085344</td>\n",
       "      <td>-0.329163</td>\n",
       "      <td>-0.339743</td>\n",
       "      <td>...</td>\n",
       "      <td>0.015199</td>\n",
       "      <td>-0.186026</td>\n",
       "      <td>-0.470205</td>\n",
       "      <td>0.055860</td>\n",
       "      <td>0.364065</td>\n",
       "      <td>-0.331242</td>\n",
       "      <td>0.082720</td>\n",
       "      <td>0.278155</td>\n",
       "      <td>0.119504</td>\n",
       "      <td>3.57</td>\n",
       "    </tr>\n",
       "    <tr>\n",
       "      <th>180242</th>\n",
       "      <td>1.943666</td>\n",
       "      <td>-1.029557</td>\n",
       "      <td>-1.276665</td>\n",
       "      <td>-0.427737</td>\n",
       "      <td>-0.815657</td>\n",
       "      <td>-1.007531</td>\n",
       "      <td>-0.293930</td>\n",
       "      <td>-0.238641</td>\n",
       "      <td>-0.743251</td>\n",
       "      <td>1.125115</td>\n",
       "      <td>...</td>\n",
       "      <td>-0.449719</td>\n",
       "      <td>-0.027971</td>\n",
       "      <td>0.203359</td>\n",
       "      <td>0.049295</td>\n",
       "      <td>0.092062</td>\n",
       "      <td>-0.178437</td>\n",
       "      <td>0.762153</td>\n",
       "      <td>-0.089487</td>\n",
       "      <td>-0.057625</td>\n",
       "      <td>107.77</td>\n",
       "    </tr>\n",
       "    <tr>\n",
       "      <th>278892</th>\n",
       "      <td>-0.343991</td>\n",
       "      <td>1.475547</td>\n",
       "      <td>0.349266</td>\n",
       "      <td>1.211181</td>\n",
       "      <td>-0.510325</td>\n",
       "      <td>-1.281538</td>\n",
       "      <td>0.455647</td>\n",
       "      <td>0.011873</td>\n",
       "      <td>-0.737317</td>\n",
       "      <td>0.100004</td>\n",
       "      <td>...</td>\n",
       "      <td>0.248074</td>\n",
       "      <td>0.463618</td>\n",
       "      <td>1.563284</td>\n",
       "      <td>-0.107122</td>\n",
       "      <td>1.032006</td>\n",
       "      <td>-0.465200</td>\n",
       "      <td>0.211401</td>\n",
       "      <td>0.238458</td>\n",
       "      <td>0.208167</td>\n",
       "      <td>7.84</td>\n",
       "    </tr>\n",
       "    <tr>\n",
       "      <th>85098</th>\n",
       "      <td>1.185368</td>\n",
       "      <td>0.248102</td>\n",
       "      <td>1.110961</td>\n",
       "      <td>2.448941</td>\n",
       "      <td>-0.387718</td>\n",
       "      <td>0.503952</td>\n",
       "      <td>-0.546283</td>\n",
       "      <td>0.203680</td>\n",
       "      <td>0.070122</td>\n",
       "      <td>0.556493</td>\n",
       "      <td>...</td>\n",
       "      <td>-0.141848</td>\n",
       "      <td>-0.102446</td>\n",
       "      <td>-0.226039</td>\n",
       "      <td>-0.052715</td>\n",
       "      <td>-0.481575</td>\n",
       "      <td>0.368006</td>\n",
       "      <td>0.004532</td>\n",
       "      <td>0.033685</td>\n",
       "      <td>0.027790</td>\n",
       "      <td>4.72</td>\n",
       "    </tr>\n",
       "  </tbody>\n",
       "</table>\n",
       "<p>5 rows × 29 columns</p>\n",
       "</div>"
      ],
      "text/plain": [
       "              V1        V2        V3        V4        V5        V6        V7  \\\n",
       "198800  2.056433 -0.316915 -2.789687 -0.775164  2.497163  3.164444 -0.396550   \n",
       "95536  -0.476480  0.967301  1.660071  0.000008 -0.106866 -0.624360  0.599600   \n",
       "180242  1.943666 -1.029557 -1.276665 -0.427737 -0.815657 -1.007531 -0.293930   \n",
       "278892 -0.343991  1.475547  0.349266  1.211181 -0.510325 -1.281538  0.455647   \n",
       "85098   1.185368  0.248102  1.110961  2.448941 -0.387718  0.503952 -0.546283   \n",
       "\n",
       "              V8        V9       V10  ...       V20       V21       V22  \\\n",
       "198800  0.715194  0.448127  0.031925  ... -0.165740  0.243647  0.743975   \n",
       "95536   0.085344 -0.329163 -0.339743  ...  0.015199 -0.186026 -0.470205   \n",
       "180242 -0.238641 -0.743251  1.125115  ... -0.449719 -0.027971  0.203359   \n",
       "278892  0.011873 -0.737317  0.100004  ...  0.248074  0.463618  1.563284   \n",
       "85098   0.203680  0.070122  0.556493  ... -0.141848 -0.102446 -0.226039   \n",
       "\n",
       "             V23       V24       V25       V26       V27       V28  Amount  \n",
       "198800  0.037861  0.737525  0.302948 -0.087858 -0.001144 -0.064954    3.80  \n",
       "95536   0.055860  0.364065 -0.331242  0.082720  0.278155  0.119504    3.57  \n",
       "180242  0.049295  0.092062 -0.178437  0.762153 -0.089487 -0.057625  107.77  \n",
       "278892 -0.107122  1.032006 -0.465200  0.211401  0.238458  0.208167    7.84  \n",
       "85098  -0.052715 -0.481575  0.368006  0.004532  0.033685  0.027790    4.72  \n",
       "\n",
       "[5 rows x 29 columns]"
      ]
     },
     "execution_count": 31,
     "metadata": {},
     "output_type": "execute_result"
    }
   ],
   "source": [
    "columns.head()"
   ]
  },
  {
   "cell_type": "code",
   "execution_count": 32,
   "id": "24660504",
   "metadata": {},
   "outputs": [
    {
     "data": {
      "text/plain": [
       "198800    0\n",
       "95536     0\n",
       "180242    0\n",
       "278892    0\n",
       "85098     0\n",
       "Name: Class, dtype: int64"
      ]
     },
     "execution_count": 32,
     "metadata": {},
     "output_type": "execute_result"
    }
   ],
   "source": [
    "target.head()"
   ]
  },
  {
   "cell_type": "markdown",
   "id": "66fe45ed",
   "metadata": {},
   "source": [
    "# split the data into training and test"
   ]
  },
  {
   "cell_type": "code",
   "execution_count": 33,
   "id": "dbcd66c0",
   "metadata": {},
   "outputs": [],
   "source": [
    "from sklearn.model_selection import train_test_split\n",
    "x_train, x_test, y_train, y_test = train_test_split(columns, target, \n",
    "                                                    train_size=0.75,random_state=125,\n",
    "                                                   stratify=target)\n"
   ]
  },
  {
   "cell_type": "code",
   "execution_count": 34,
   "id": "b839c310",
   "metadata": {},
   "outputs": [],
   "source": [
    "from sklearn.model_selection import train_test_split\n",
    "x_train,x_test, y_train,y_test = train_test_split(columns,target,train_size=.75, random_state = 125)\n"
   ]
  },
  {
   "cell_type": "code",
   "execution_count": 35,
   "id": "0b49c71e",
   "metadata": {
    "scrolled": true
   },
   "outputs": [
    {
     "data": {
      "text/html": [
       "<style>#sk-container-id-1 {color: black;background-color: white;}#sk-container-id-1 pre{padding: 0;}#sk-container-id-1 div.sk-toggleable {background-color: white;}#sk-container-id-1 label.sk-toggleable__label {cursor: pointer;display: block;width: 100%;margin-bottom: 0;padding: 0.3em;box-sizing: border-box;text-align: center;}#sk-container-id-1 label.sk-toggleable__label-arrow:before {content: \"▸\";float: left;margin-right: 0.25em;color: #696969;}#sk-container-id-1 label.sk-toggleable__label-arrow:hover:before {color: black;}#sk-container-id-1 div.sk-estimator:hover label.sk-toggleable__label-arrow:before {color: black;}#sk-container-id-1 div.sk-toggleable__content {max-height: 0;max-width: 0;overflow: hidden;text-align: left;background-color: #f0f8ff;}#sk-container-id-1 div.sk-toggleable__content pre {margin: 0.2em;color: black;border-radius: 0.25em;background-color: #f0f8ff;}#sk-container-id-1 input.sk-toggleable__control:checked~div.sk-toggleable__content {max-height: 200px;max-width: 100%;overflow: auto;}#sk-container-id-1 input.sk-toggleable__control:checked~label.sk-toggleable__label-arrow:before {content: \"▾\";}#sk-container-id-1 div.sk-estimator input.sk-toggleable__control:checked~label.sk-toggleable__label {background-color: #d4ebff;}#sk-container-id-1 div.sk-label input.sk-toggleable__control:checked~label.sk-toggleable__label {background-color: #d4ebff;}#sk-container-id-1 input.sk-hidden--visually {border: 0;clip: rect(1px 1px 1px 1px);clip: rect(1px, 1px, 1px, 1px);height: 1px;margin: -1px;overflow: hidden;padding: 0;position: absolute;width: 1px;}#sk-container-id-1 div.sk-estimator {font-family: monospace;background-color: #f0f8ff;border: 1px dotted black;border-radius: 0.25em;box-sizing: border-box;margin-bottom: 0.5em;}#sk-container-id-1 div.sk-estimator:hover {background-color: #d4ebff;}#sk-container-id-1 div.sk-parallel-item::after {content: \"\";width: 100%;border-bottom: 1px solid gray;flex-grow: 1;}#sk-container-id-1 div.sk-label:hover label.sk-toggleable__label {background-color: #d4ebff;}#sk-container-id-1 div.sk-serial::before {content: \"\";position: absolute;border-left: 1px solid gray;box-sizing: border-box;top: 0;bottom: 0;left: 50%;z-index: 0;}#sk-container-id-1 div.sk-serial {display: flex;flex-direction: column;align-items: center;background-color: white;padding-right: 0.2em;padding-left: 0.2em;position: relative;}#sk-container-id-1 div.sk-item {position: relative;z-index: 1;}#sk-container-id-1 div.sk-parallel {display: flex;align-items: stretch;justify-content: center;background-color: white;position: relative;}#sk-container-id-1 div.sk-item::before, #sk-container-id-1 div.sk-parallel-item::before {content: \"\";position: absolute;border-left: 1px solid gray;box-sizing: border-box;top: 0;bottom: 0;left: 50%;z-index: -1;}#sk-container-id-1 div.sk-parallel-item {display: flex;flex-direction: column;z-index: 1;position: relative;background-color: white;}#sk-container-id-1 div.sk-parallel-item:first-child::after {align-self: flex-end;width: 50%;}#sk-container-id-1 div.sk-parallel-item:last-child::after {align-self: flex-start;width: 50%;}#sk-container-id-1 div.sk-parallel-item:only-child::after {width: 0;}#sk-container-id-1 div.sk-dashed-wrapped {border: 1px dashed gray;margin: 0 0.4em 0.5em 0.4em;box-sizing: border-box;padding-bottom: 0.4em;background-color: white;}#sk-container-id-1 div.sk-label label {font-family: monospace;font-weight: bold;display: inline-block;line-height: 1.2em;}#sk-container-id-1 div.sk-label-container {text-align: center;}#sk-container-id-1 div.sk-container {/* jupyter's `normalize.less` sets `[hidden] { display: none; }` but bootstrap.min.css set `[hidden] { display: none !important; }` so we also need the `!important` here to be able to override the default hidden behavior on the sphinx rendered scikit-learn.org. See: https://github.com/scikit-learn/scikit-learn/issues/21755 */display: inline-block !important;position: relative;}#sk-container-id-1 div.sk-text-repr-fallback {display: none;}</style><div id=\"sk-container-id-1\" class=\"sk-top-container\"><div class=\"sk-text-repr-fallback\"><pre>LogisticRegression()</pre><b>In a Jupyter environment, please rerun this cell to show the HTML representation or trust the notebook. <br />On GitHub, the HTML representation is unable to render, please try loading this page with nbviewer.org.</b></div><div class=\"sk-container\" hidden><div class=\"sk-item\"><div class=\"sk-estimator sk-toggleable\"><input class=\"sk-toggleable__control sk-hidden--visually\" id=\"sk-estimator-id-1\" type=\"checkbox\" checked><label for=\"sk-estimator-id-1\" class=\"sk-toggleable__label sk-toggleable__label-arrow\">LogisticRegression</label><div class=\"sk-toggleable__content\"><pre>LogisticRegression()</pre></div></div></div></div></div>"
      ],
      "text/plain": [
       "LogisticRegression()"
      ]
     },
     "execution_count": 35,
     "metadata": {},
     "output_type": "execute_result"
    }
   ],
   "source": [
    "from sklearn.linear_model import LogisticRegression\n",
    "logit = LogisticRegression()\n",
    "logit.fit(x_train,y_train)"
   ]
  },
  {
   "cell_type": "code",
   "execution_count": 36,
   "id": "c9873371",
   "metadata": {},
   "outputs": [],
   "source": [
    "y_pred_train = logit.predict(x_train)\n",
    "y_pred_test = logit.predict(x_test)"
   ]
  },
  {
   "cell_type": "code",
   "execution_count": 37,
   "id": "b5dcd45c",
   "metadata": {},
   "outputs": [],
   "source": [
    "from sklearn.metrics import confusion_matrix,classification_report,accuracy_score\n"
   ]
  },
  {
   "cell_type": "markdown",
   "id": "6b81bf5e",
   "metadata": {},
   "source": [
    "# Using Machine Learning model"
   ]
  },
  {
   "cell_type": "markdown",
   "id": "22d58d78",
   "metadata": {},
   "source": [
    "# Ensemble Learning - Bagging"
   ]
  },
  {
   "cell_type": "code",
   "execution_count": null,
   "id": "46d12909",
   "metadata": {},
   "outputs": [],
   "source": [
    "from sklearn.ensemble import BaggingClassifier\n",
    "bgcl = BaggingClassifier(base_estimator=dtree,n_estimators=50,random_state=1)\n",
    "bgcl.fit(x_train, y_train)"
   ]
  },
  {
   "cell_type": "code",
   "execution_count": null,
   "id": "c988e9f5",
   "metadata": {},
   "outputs": [],
   "source": [
    "y_pred_train_bg = bgcl.predict(x_train)\n",
    "y_pred_test_bg = bgcl.predict(x_test)"
   ]
  },
  {
   "cell_type": "code",
   "execution_count": null,
   "id": "ef89893b",
   "metadata": {},
   "outputs": [],
   "source": [
    "print(classification_report(y_train, y_pred_train_bg))\n",
    "print(\"*****************************\"*5)\n",
    "print(classification_report(y_test, y_pred_test_bg))"
   ]
  },
  {
   "cell_type": "code",
   "execution_count": null,
   "id": "ffb51965",
   "metadata": {},
   "outputs": [],
   "source": [
    "print(\"Accuracy - Training :\", accuracy_score(y_train, y_pred_train_bg))\n",
    "print(\"*****************************\"*5)\n",
    "print(\"Accuracy - Test :\", accuracy_score(y_test, y_pred_test_bg))"
   ]
  },
  {
   "cell_type": "code",
   "execution_count": null,
   "id": "466adaf3",
   "metadata": {},
   "outputs": [],
   "source": [
    "from sklearn.tree import DecisionTreeClassifier\n",
    "dtree = DecisionTreeClassifier(criterion='entropy')\n",
    "dtree.fit(x_train, y_train)"
   ]
  },
  {
   "cell_type": "code",
   "execution_count": null,
   "id": "760cf507",
   "metadata": {},
   "outputs": [],
   "source": [
    "y_pred_train_dt = dtree.predict(x_train)\n",
    "y_pred_test_dt = dtree.predict(x_test)"
   ]
  },
  {
   "cell_type": "code",
   "execution_count": null,
   "id": "385c4abd",
   "metadata": {},
   "outputs": [],
   "source": [
    "print(classification_report(y_train, y_pred_train_dt))\n",
    "print(\"*****************************\"*5)\n",
    "print(classification_report(y_test, y_pred_test_dt))"
   ]
  },
  {
   "cell_type": "code",
   "execution_count": null,
   "id": "0ff49b76",
   "metadata": {},
   "outputs": [],
   "source": []
  },
  {
   "cell_type": "markdown",
   "id": "2ff71c95",
   "metadata": {},
   "source": [
    "# Ensemble Learning - AdaBoosting method"
   ]
  },
  {
   "cell_type": "code",
   "execution_count": null,
   "id": "813610b0",
   "metadata": {},
   "outputs": [],
   "source": [
    "from sklearn.ensemble import AdaBoostClassifier\n",
    "adbcl = AdaBoostClassifier(random_state=1)\n",
    "adbcl.fit(x_train, y_train)"
   ]
  },
  {
   "cell_type": "code",
   "execution_count": null,
   "id": "38c1b78d",
   "metadata": {},
   "outputs": [],
   "source": [
    "y_pred_train_adb = adbcl.predict(x_train)\n",
    "y_pred_test_adb = adbcl.predict(x_test)"
   ]
  },
  {
   "cell_type": "code",
   "execution_count": null,
   "id": "468fe9e6",
   "metadata": {},
   "outputs": [],
   "source": [
    "print(classification_report(y_train, y_pred_train_adb))\n",
    "print(\"*****************************\"*5)\n",
    "print(classification_report(y_test, y_pred_test_adb))"
   ]
  },
  {
   "cell_type": "code",
   "execution_count": null,
   "id": "d9aec4c5",
   "metadata": {},
   "outputs": [],
   "source": []
  },
  {
   "cell_type": "markdown",
   "id": "757b0458",
   "metadata": {},
   "source": [
    "# Gradient Boosting"
   ]
  },
  {
   "cell_type": "code",
   "execution_count": null,
   "id": "05dd6e76",
   "metadata": {},
   "outputs": [],
   "source": [
    "from sklearn.ensemble import GradientBoostingClassifier\n",
    "gbcl = GradientBoostingClassifier(n_estimators=50, random_state=1)\n",
    "gbcl.fit(x_train, y_train)"
   ]
  },
  {
   "cell_type": "code",
   "execution_count": null,
   "id": "fd8dd960",
   "metadata": {},
   "outputs": [],
   "source": [
    "y_pred_train_gd = gbcl.predict(x_train)\n",
    "y_pred_test_gd = gbcl.predict(x_test)"
   ]
  },
  {
   "cell_type": "code",
   "execution_count": null,
   "id": "d284e009",
   "metadata": {},
   "outputs": [],
   "source": [
    "print(classification_report(y_train, y_pred_train_gd))\n",
    "print(\"*****************************\"*5)\n",
    "print(classification_report(y_test, y_pred_test_gd))"
   ]
  },
  {
   "cell_type": "markdown",
   "id": "fb66b33b",
   "metadata": {},
   "source": [
    "# XGBoost"
   ]
  },
  {
   "cell_type": "code",
   "execution_count": null,
   "id": "64476130",
   "metadata": {},
   "outputs": [],
   "source": [
    "from xgboost import XGBClassifier\n",
    "xgbcl = XGBClassifier()\n",
    "xgbcl.fit(x_train, y_train)"
   ]
  },
  {
   "cell_type": "code",
   "execution_count": null,
   "id": "0e0411c7",
   "metadata": {},
   "outputs": [],
   "source": [
    "y_pred_train_xgb = xgbcl.predict(x_train)\n",
    "y_pred_test_xgb = xgbcl.predict(x_test)"
   ]
  },
  {
   "cell_type": "code",
   "execution_count": null,
   "id": "90156e78",
   "metadata": {},
   "outputs": [],
   "source": [
    "print(classification_report(y_train, y_pred_train_xgb))\n",
    "print(\"*****************************\"*5)\n",
    "print(classification_report(y_test, y_pred_test_xgb))"
   ]
  },
  {
   "cell_type": "code",
   "execution_count": null,
   "id": "01e123fd",
   "metadata": {},
   "outputs": [],
   "source": []
  },
  {
   "cell_type": "markdown",
   "id": "dcddb5cd",
   "metadata": {},
   "source": [
    "# IsolationForest, LocalOutlierFactor, OneClassSVM"
   ]
  },
  {
   "cell_type": "code",
   "execution_count": null,
   "id": "0ff876aa",
   "metadata": {},
   "outputs": [],
   "source": [
    "from sklearn.ensemble import IsolationForest\n",
    "from sklearn.neighbors import LocalOutlierFactor\n",
    "from sklearn.svm import OneClassSVM"
   ]
  },
  {
   "cell_type": "code",
   "execution_count": null,
   "id": "0cffb678",
   "metadata": {},
   "outputs": [],
   "source": [
    "Classification = {\"Isolation Forest\" : IsolationForest(max_samples=len(columns),\n",
    "                                                     contamination=outlier_fraction),\n",
    "                 \n",
    "                 \"Local Outlier Factor\" : LocalOutlierFactor(contamination=outlier_fraction),\n",
    "                 \n",
    "                 \"One Class SVM\" : OneClassSVM()}"
   ]
  },
  {
   "cell_type": "code",
   "execution_count": null,
   "id": "b83001d0",
   "metadata": {},
   "outputs": [],
   "source": [
    "n_outlier = len(fraud)\n",
    "\n",
    "for i, (clf_name, clf) in enumerate(Classification.items()):\n",
    "    if clf_name =='Local Outlier Factor' :\n",
    "        y_pred = clf.fit_predict(columns)\n",
    "        score_prediction = clf.negative_outlier_factor_\n",
    "        \n",
    "    elif clf_name =='One Class SVM' :\n",
    "        clf.fit(columns)\n",
    "        y_pred = clf.predict(columns)\n",
    "        \n",
    "    else:\n",
    "        clf.fit(columns)\n",
    "        score_prediction = clf.decision_function(columns)\n",
    "        y_pred = clf.predict(columns)\n",
    "        \n",
    "    y_pred[y_pred==1] = 0\n",
    "    y_pred[y_pred==-1] = 1\n",
    "    n_error = (y_pred !=target).sum()\n",
    "    \n",
    "    print(\"{} : {}\".format(clf_name, n_error))\n",
    "    print(\"Accuracy Score :\")\n",
    "    \n",
    "    print(accuracy_score(target, y_pred))\n",
    "    print(\"Classification Report :\")\n",
    "    print(classification_report(target, y_pred))"
   ]
  },
  {
   "cell_type": "code",
   "execution_count": null,
   "id": "edf09407",
   "metadata": {},
   "outputs": [],
   "source": []
  },
  {
   "cell_type": "code",
   "execution_count": null,
   "id": "56aab8f3",
   "metadata": {},
   "outputs": [],
   "source": []
  },
  {
   "cell_type": "code",
   "execution_count": null,
   "id": "a1fe3c0f",
   "metadata": {},
   "outputs": [],
   "source": []
  }
 ],
 "metadata": {
  "kernelspec": {
   "display_name": "Python 3 (ipykernel)",
   "language": "python",
   "name": "python3"
  },
  "language_info": {
   "codemirror_mode": {
    "name": "ipython",
    "version": 3
   },
   "file_extension": ".py",
   "mimetype": "text/x-python",
   "name": "python",
   "nbconvert_exporter": "python",
   "pygments_lexer": "ipython3",
   "version": "3.11.2"
  }
 },
 "nbformat": 4,
 "nbformat_minor": 5
}
